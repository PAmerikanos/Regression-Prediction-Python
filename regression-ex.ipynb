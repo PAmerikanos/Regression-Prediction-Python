{
 "cells": [
  {
   "cell_type": "markdown",
   "metadata": {},
   "source": [
    "## 1. Εκτίμηση Παραμέτρων Γραμμικής Παλινδρόμησης"
   ]
  },
  {
   "cell_type": "code",
   "execution_count": null,
   "metadata": {},
   "outputs": [],
   "source": [
    "# Run this!\n",
    "import numpy as np\n",
    "\n",
    "# Test Data Definitions\n",
    "Xtest = np.array([[35.0], [65.0], [90.0], [120.0], [160.0], [200.0]])\n",
    "ytest = np.array([[45.0], [50.0], [100.0], [170.0], [190.0], [260.0]])"
   ]
  },
  {
   "cell_type": "markdown",
   "metadata": {},
   "source": [
    "Για σύνολο δεδομένων (**X**, **y**), όπου: \n",
    "* **Χ** είναι πίνακας mxn, με m παραδείγματα εκπαίδευσης (training examples) και n χαρακτηριστικά (features),\n",
    "* **y** είναι διάνυσμα mx1 (στήλη) με τις εξαρτημένες τιμές, μία για κάθε παράδειγμα εκπαίδευσης\n",
    "\n",
    "Αν **Χ**<sub>1</sub> είναι ο πίνακας που προκύπτει από τον πίνακα **X** με επισύναψη σε αυτόν ενός διανύσματος mx1 που περιέχει \"1\" σε κάθε θέση, η εκτίμηση των (n+1) παραμέτρων γραμμικής παλινδρόμησης δίνεται από τον τύπο:\n",
    "(**X**<sub>1</sub><sup>T</sup>**X**<sub>1</sub>)<sup>-1</sup>**X**<sub>1</sub><sup>T</sup>**y**\n",
    "\n",
    "__1.1 Να γράψετε τον κώδικα συνάρτηση Python που υλοποιεί τον τύπο αυτόν και επιστρέφει το διάνυσμα των παραμέτρων__"
   ]
  },
  {
   "cell_type": "code",
   "execution_count": null,
   "metadata": {},
   "outputs": [],
   "source": [
    "def regress(X, y):                 # X and y are ndarrays\n",
    "    m = X.shape[0]                 # Read number of rows of X (i.e. num of tr. examples)\n",
    "    ones = np.ones( (m, 1) )       # Make column vector with ones\n",
    "    X1 = np.hstack( (ones, X) )    # Stack the ones column vector as first column of X1\n",
    "\n",
    "    # Compute the regression parameters\n",
    "    theta = np.linalg.pinv(X1.T.dot(X1)).dot(X1.T).dot(y)\n",
    "\n",
    "    # or, equivalently:\n",
    "    # theta = np.dot(np.dot(np.linalg.inv(np.dot(X1.T, X1)), X1.T), y)\n",
    "\n",
    "    return theta                   # Return the result\n",
    "\n",
    "#############################################\n",
    "# Test it with the the following statements.\n",
    "# Expected outcome is: -16.863879, 1.36743772\n",
    "#############################################\n",
    "testTheta = regress(Xtest, ytest)\n",
    "print(testTheta)"
   ]
  },
  {
   "cell_type": "markdown",
   "metadata": {},
   "source": [
    "Δεδομένων των εκτιμήσεων **θ** (*theta*) των παραμέτρων παλινδρόμησης, μπορούμε να λάβουμε τις εκτιμήσεις του y για οποιοδήποτε σύνολο k δεδομένων σημείων (n χαρακτηριστικών, έκαστο) που δίνονται σε πίνακα **P** kxn, ως εξής. Επισυνάπτουμε ένα διάνυσμα kx1 που περιέχει \"1\" σε κάθε θέση, ως πρώτη στήλη στον **P** και λαμβάνουμε τον **P**<sub>1</sub>. Στη συνέχεια, οι εκτιμήσεις του y είναι: **P**<sub>1</sub>**θ**. Για παράδειγμα, αν P = X (το training set), οι εκτιμήσεις είναι: **X**<sub>1</sub>**θ**\n",
    "\n",
    "__1.2 Να γράψετε τον κώδικα συνάρτησης Python που υλοποιεί τον τύπο αυτον και επιστρέφει το διάνυσμα των εκτιμήσεων__"
   ]
  },
  {
   "cell_type": "code",
   "execution_count": null,
   "metadata": {},
   "outputs": [],
   "source": [
    "def estimate(theta, P):            # theta and P are ndarrays\n",
    "    pass\n",
    "\n",
    "##################################################################################################\n",
    "# Test it with the the following statements.\n",
    "# Expected outcome is: \n",
    "# [[ 30.99644128], [ 72.01957295], [106.20551601], [147.22864769], [201.92615658], [256.62366548]]\n",
    "##################################################################################################\n",
    "# yest = estimate(testTheta, Xtest)\n",
    "# print(yest)"
   ]
  },
  {
   "cell_type": "markdown",
   "metadata": {},
   "source": [
    "Το μέσο τετραγωνικό σφάλμα των προβλέψεων για οποιονδήποτε πίνακα k σημείων **P** kxn μπορεί να υπολογιστεί με πράξεις πινάκων, ως εξής. Έστω **y** το διάνυσμα των πραγματικών τιμών και **y**' το διάνυσμα των προβλέψεων (και τα δύο είναι kx1). Τότε: MSE = (1/k)(**y**'-**y**)<sup>T</sup>(**y**'-**y**). Για την εκτίμηση **y**' μπορείτε να χρησιμοποιήσετε εντός της συνάρτησης mse (παρακάτω), την προηγούμενη συνάρτηση, estimate, που ορίσατε προηγουμένως.\n",
    "\n",
    "__1.3 Να γράψετε τον κώδικα συνάρτησης Python που υλοποιεί τον τύπο αυτον και επιστρέφει το μέσο τετραγωνικό σφάλμα__"
   ]
  },
  {
   "cell_type": "code",
   "execution_count": null,
   "metadata": {},
   "outputs": [],
   "source": [
    "def mse(theta, P, y):\n",
    "    pass\n",
    "\n",
    "############################################\n",
    "# Test it with the the following statements.\n",
    "# Expected outcome is: 15.22956013\n",
    "############################################\n",
    "# errTest = mse(testTheta, Xtest, ytest)\n",
    "# print(np.sqrt(errTest))   # prints the root of mean square error (rmse)"
   ]
  },
  {
   "cell_type": "markdown",
   "metadata": {},
   "source": [
    "Στη συνέχεια δοκιμάστε τον κώδικά σας στο \"Boston Housing\" dataset που δίνεται. Θα πρέπει, με μερικές γραμμές κώδικα Python, να φορτώσετε το αρχείο σε έναν πίνακα τύπου numpy.ndarray, να ξεχωρίσετε το **X** από το **y** και: να βρείτε την εκτίμηση των παραμέτρων παλινδρόμησης και την τετραγωνική ρίζα του μέσου τετραγωνικού σφάλματος. Στο dataset αυτό, η τελευταία στήλη είναι το **y** και αντιστοιχεί στην τιμή σπιτιών, που καλούμαστε να προβλέψουμε."
   ]
  },
  {
   "cell_type": "code",
   "execution_count": null,
   "metadata": {},
   "outputs": [],
   "source": [
    "######################################\n",
    "# Root mean square error is: 4.6791913\n",
    "######################################"
   ]
  },
  {
   "cell_type": "markdown",
   "metadata": {},
   "source": [
    "## 2. Υλοποίηση Gradient Descent για Εκτίμηση Παραμέτρων Γραμμικής Παλινδρόμησης\n",
    "\n",
    "Η GD αρχικοποιεί τις παραμέτρους σε **θ=0**. Σε κάθε επανάληψη, ενημερώνει κάθε παράμετρο σύμφωνα με την τιμή της μερικής παραγώγου του μέσου τετραγωνικού σφάλματος (mse) ως προς την παράμετρο αυτή. Για την ακρίβεια, όπως έχουμε συζητήσει στο μάθημα, η ενημέρωση κάθε παραμέτρου θ<sub>i</sub> συμβαίνει σύμφωνα με την τιμή της μερικής παραγώγου του **μισού** μέσου τετραγωνικού σφάλματος (mse/2), ως προς την παράμετρο θ<sub>i</sub>.\n",
    "\n",
    "Με χρήση πινάκων, μπορούμε να εκφράσουμε την ενημέρωση των όλων των παραμέτρων ταυτόχρονα σε μία πρόταση:\n",
    "\n",
    "**θ** := **θ** - (*α*/m)**Χ**<sub>1</sub><sup>T</sup>(**y**'-**y**), όπου *α* είναι ο ρυθμός εκμάθησης.\n",
    "\n",
    "Η μέθοδος εκτελεί επαναλήψεις μέχρι η βελτίωση του (μισού του) μέσου τετραγωνικού σφάλματος να γίνει μικρότερη από *ε*, για δεδομένη σταθερά *ε*.\n",
    "\n",
    "__2.1 Ζητείται να γράψετε τον κώδικα συνάρτησης Python που υλοποιεί τη Gradient Descent για γραμμική παλινδρόμηση__"
   ]
  },
  {
   "cell_type": "code",
   "execution_count": null,
   "metadata": {},
   "outputs": [],
   "source": [
    "def gdregress(a, e, X, y):\n",
    "    pass\n",
    "\n",
    "#####################################################################\n",
    "# Test it with the the following statements.\n",
    "# Expected outcome: 60802 iterations, 0.5mse = 118.4666641221908\n",
    "#####################################################################\n",
    "# testTheta = gdregress(0.0001, 0.0001, Xtest, ytest)\n",
    "# print(theta)\n"
   ]
  },
  {
   "cell_type": "markdown",
   "metadata": {},
   "source": [
    "Όπως έχουμε αναφέρει στη συζήτηση της Gradient Descent, συτήνεται κανονικοποίηση των χαρακτηριστικών του dataset, για καλύτερη συμπεριφορά της μεθόδου.\n",
    "\n",
    "__2.2 Ζητείται να γράψετε συνάρτηση Python που κανονικοποιεί ένα δεδομένο πίνακα Χ mxn (m παραδείγματα εκπαίδευσης, n χαρακτηριστικά) και επιστρέφει τον κανονικοποιημένο πίνακα__"
   ]
  },
  {
   "cell_type": "code",
   "execution_count": null,
   "metadata": {},
   "outputs": [],
   "source": [
    "def normalize(X):                 # normalizes X and returns the normalized matrix\n",
    "    pass\n",
    "\n",
    "##############################################################################################################\n",
    "# Test it with the following statements.\n",
    "# Expected outcome: [[-0.46464646], [-0.28282828], [-0.13131313], [ 0.05050505], [ 0.29292929], [ 0.53535354]]\n",
    "##############################################################################################################\n",
    "# X = normalize(Xtest)\n",
    "# print(X)"
   ]
  },
  {
   "cell_type": "markdown",
   "metadata": {},
   "source": [
    "__2.3 Να εκτελέσετε τη Gradient Descent στο Boston Housing dataset (κατόπιν κανονικοποίησής του), για να βρείτε τις παραμέτρους παλινδρόμησης και την τετραγωνική ρίζα του μέσου τετραγωνικού σφάλματος.__\n",
    "\n",
    "<font color='red'>**Σημείωση:**</font> Το Boston Housing dataset αποτελείται από 506 παραδείγματα εκπαίδευσης (training examples, γραμμές του αρχείου), έκαστο αποτελούμενο από 14 τιμές. Κάθε παράδειγμα εκπαίδευσης αντιστοιχεί σε μετρήσεις σχετικές με την τιμή ενός σπιτιού σε προάστιο της Βοστώνης. Η τελευταία από τις 14 τιμές (τελευταία \"στήλη\"), είναι η τιμή του σπιτιού και ο \"στόχος\" προς πρόβλεψη. Αυτό σημαίνει ότι το dataset πρέπει να διαχωριστεί σε \"**X**\" και \"**y**\"."
   ]
  },
  {
   "cell_type": "code",
   "execution_count": null,
   "metadata": {},
   "outputs": [],
   "source": [
    "########################################\n",
    "# Root mean square error is:\n",
    "#   for a = 0.1, e = 0.01:    5.14011976\n",
    "#   for a = 0.01, e = 0.001:  5.14142196\n",
    "#   for a = 0.01, e = 0.0001: 4.77778732\n",
    "########################################\n",
    "\n",
    "# The following reads a dataset into a numpy.ndarray. \n",
    "# The dataset needs to be a text file, with a training example per line.\n",
    "# Each line must contain values separated by one or more spaces.\n",
    "D = np.genfromtxt(\"housing.data\")"
   ]
  }
 ],
 "metadata": {
  "kernelspec": {
   "display_name": "Python 3",
   "language": "python",
   "name": "python3"
  },
  "language_info": {
   "codemirror_mode": {
    "name": "ipython",
    "version": 3
   },
   "file_extension": ".py",
   "mimetype": "text/x-python",
   "name": "python",
   "nbconvert_exporter": "python",
   "pygments_lexer": "ipython3",
   "version": "3.6.4"
  }
 },
 "nbformat": 4,
 "nbformat_minor": 2
}
