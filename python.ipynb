{
 "cells": [
  {
   "cell_type": "markdown",
   "metadata": {},
   "source": [
    "## Βασικοί Τύποι Δεδομένων"
   ]
  },
  {
   "cell_type": "markdown",
   "metadata": {},
   "source": [
    "### Συμβολοσειρές"
   ]
  },
  {
   "cell_type": "code",
   "execution_count": null,
   "metadata": {},
   "outputs": [],
   "source": [
    "msg = \"Hello World\" # string assignment to variable\n",
    "print(msg)          # printing the variable content\n",
    "type(msg)           # returns type of given variable"
   ]
  },
  {
   "cell_type": "markdown",
   "metadata": {},
   "source": [
    "### Αριθμοί (Ακέραιοι, Κινητής Υποδιαστολής, Σταθερής Υποδιαστολής)"
   ]
  },
  {
   "cell_type": "code",
   "execution_count": null,
   "metadata": {},
   "outputs": [],
   "source": [
    "x = 5         # assignment of int to variable\n",
    "y = 6.3       # assignment of float to variable\n",
    "print(x+y)    # sum evaluation and printing\n",
    "type(x)"
   ]
  },
  {
   "cell_type": "markdown",
   "metadata": {},
   "source": [
    "### Λογικοί Τύποι: True, False"
   ]
  },
  {
   "cell_type": "code",
   "execution_count": null,
   "metadata": {},
   "outputs": [],
   "source": [
    "a = True; b = False   # assignment of bool to variable\n",
    "print(a and not b)    # \"and\"/\"not\" evaluation\n",
    "print(a or b)         # \"or\" evaluation\n",
    "type(a)"
   ]
  },
  {
   "cell_type": "markdown",
   "metadata": {},
   "source": [
    "### Τύπος None"
   ]
  },
  {
   "cell_type": "markdown",
   "metadata": {},
   "source": [
    "Παίζει ουσιαστικά τον ρόλο του \"<font color='blue'>null</blue>\" στη Java"
   ]
  },
  {
   "cell_type": "code",
   "execution_count": null,
   "metadata": {},
   "outputs": [],
   "source": [
    "a = None\n",
    "type(a)"
   ]
  },
  {
   "cell_type": "markdown",
   "metadata": {},
   "source": [
    "### Σύνθετοι Τύποι Δεδομένων: Λίστες"
   ]
  },
  {
   "cell_type": "code",
   "execution_count": null,
   "metadata": {},
   "outputs": [],
   "source": [
    "a = [1, 2, 3]   # assignment of list to variable\n",
    "a               # list evaluation"
   ]
  },
  {
   "cell_type": "code",
   "execution_count": null,
   "metadata": {},
   "outputs": [],
   "source": [
    "type(a)         # evaluation of type of a"
   ]
  },
  {
   "cell_type": "code",
   "execution_count": null,
   "metadata": {},
   "outputs": [],
   "source": [
    "a = [1, \"two\", 3, [4, \"five\", False], 7]    # a list with diverse types of elements\n",
    "a[0]                                        # element at position 0"
   ]
  },
  {
   "cell_type": "code",
   "execution_count": null,
   "metadata": {},
   "outputs": [],
   "source": [
    "a[1]            # element at position 1"
   ]
  },
  {
   "cell_type": "code",
   "execution_count": null,
   "metadata": {},
   "outputs": [],
   "source": [
    "a[0:3]          # sublist from position 0 up to 2"
   ]
  },
  {
   "cell_type": "code",
   "execution_count": null,
   "metadata": {},
   "outputs": [],
   "source": [
    "a[3]            # element at position 3"
   ]
  },
  {
   "cell_type": "code",
   "execution_count": null,
   "metadata": {},
   "outputs": [],
   "source": [
    "a[3][2]         # element at 2 of element at 3"
   ]
  },
  {
   "cell_type": "code",
   "execution_count": null,
   "metadata": {},
   "outputs": [],
   "source": [
    "max([5, 17, 4, 23, 19])  # returns maximum"
   ]
  },
  {
   "cell_type": "markdown",
   "metadata": {},
   "source": [
    "### Σύνθετοι Τύποι Δεδομένων: Πλειάδες (Tuples)"
   ]
  },
  {
   "cell_type": "code",
   "execution_count": null,
   "metadata": {},
   "outputs": [],
   "source": [
    "t = ()            # empty tuple\n",
    "t = (5,)          # one element tuple needs comma\n",
    "type(t)           # evaluate the type of t"
   ]
  },
  {
   "cell_type": "code",
   "execution_count": null,
   "metadata": {},
   "outputs": [],
   "source": [
    "type( (5) )       # this is not a tuple!!!"
   ]
  },
  {
   "cell_type": "code",
   "execution_count": null,
   "metadata": {},
   "outputs": [],
   "source": [
    "t = (5, [1, 2, 3], 7, \"hello\")\n",
    "t[1]              # element at position 1"
   ]
  },
  {
   "cell_type": "code",
   "execution_count": null,
   "metadata": {},
   "outputs": [],
   "source": [
    "t[-2]             # element at position -2/2"
   ]
  },
  {
   "cell_type": "code",
   "execution_count": null,
   "metadata": {},
   "outputs": [],
   "source": [
    "tuple([1, 2, 3])  # converts list to tuple"
   ]
  },
  {
   "cell_type": "code",
   "execution_count": null,
   "metadata": {},
   "outputs": [],
   "source": [
    "list( (1, 2, 3) ) # converts tuple to list"
   ]
  },
  {
   "cell_type": "code",
   "execution_count": null,
   "metadata": {},
   "outputs": [],
   "source": [
    "min( (5, 17, 4, 23, 19) )  # returns minimum"
   ]
  },
  {
   "cell_type": "markdown",
   "metadata": {},
   "source": [
    "### Σύνθετοι Τύποι Δεδομένων: Λεξικά (Dictionaries)"
   ]
  },
  {
   "cell_type": "code",
   "execution_count": null,
   "metadata": {},
   "outputs": [],
   "source": [
    "d = { 1:\"one\", 2:\"two\" }\n",
    "print(d[2])\n",
    "print(d[0])"
   ]
  },
  {
   "cell_type": "code",
   "execution_count": null,
   "metadata": {},
   "outputs": [],
   "source": [
    "d[\"first\"] = 1           # assigns value 1 to key \"first\"\n",
    "d[(\"John\", \"Doe\", 1980)] = \"somebody\"\n",
    "d[\"first\"]               # retrieves value with key \"first\""
   ]
  },
  {
   "cell_type": "code",
   "execution_count": null,
   "metadata": {},
   "outputs": [],
   "source": [
    "d[(\"John\", \"Doe\", 1980)] # retrieves value with key (\"John\", \"Doe\", 1980)"
   ]
  },
  {
   "cell_type": "code",
   "execution_count": null,
   "metadata": {},
   "outputs": [],
   "source": [
    "list(d.keys())           # keys() returns tuple of keys"
   ]
  },
  {
   "cell_type": "code",
   "execution_count": null,
   "metadata": {},
   "outputs": [],
   "source": [
    "d.get(\"first\")           # returns value"
   ]
  },
  {
   "cell_type": "code",
   "execution_count": null,
   "metadata": {},
   "outputs": [],
   "source": [
    "d.get(\"second\", \"n/a\")   # returns given msg if not avail"
   ]
  },
  {
   "cell_type": "markdown",
   "metadata": {},
   "source": [
    "### Σύνθετοι Τύποι Δεδομένων: Σύνολα"
   ]
  },
  {
   "cell_type": "code",
   "execution_count": null,
   "metadata": {},
   "outputs": [],
   "source": [
    "s = set([1, 2, 3, 4])            # set creation from a list\n",
    "print(s)\n",
    "s = set([1, 1, 2, 2, 3, 3])      # set creation from a list\n",
    "print(s)\n",
    "s = set( (1, 1, 2, 3, \"hello\") ) # set creation from tuple\n",
    "print(s)"
   ]
  },
  {
   "cell_type": "code",
   "execution_count": null,
   "metadata": {},
   "outputs": [],
   "source": [
    "s = set({ 1:\"one\", 2:\"two\" })    # set creation from dictionary\n",
    "print(2 in s)                    # membership operator\n",
    "print(5 in s)\n",
    "not 5 in s                       # membership returns \"bool\"\n",
    "5 not in s                       # equivalent more readable operator"
   ]
  },
  {
   "cell_type": "markdown",
   "metadata": {},
   "source": [
    "**<font color='red'>Σημείωση:</font>** *__Ο τελεστής <font color='blue'>in</font> δουλεύει και με λίστες και με πλειάδες__*"
   ]
  },
  {
   "cell_type": "markdown",
   "metadata": {},
   "source": [
    "### Περισσότερα για τις Λίστες"
   ]
  },
  {
   "cell_type": "code",
   "execution_count": null,
   "metadata": {},
   "outputs": [],
   "source": [
    "a = [1, 2, 3, 4]\n",
    "print(len(a))       # returns a list's length\n",
    "a[0] = 2            # assignment in position 0\n",
    "print(a)\n",
    "a[4] = 5            # the list does not have position 4!!"
   ]
  },
  {
   "cell_type": "code",
   "execution_count": null,
   "metadata": {},
   "outputs": [],
   "source": [
    "print(a[-4:])              # indexing in 0,...,3 and -4,...,-1\n",
    "print(a[-4:0])             # surprise!\n",
    "print(a[1:-1])             # indexing in both fashions\n",
    "print(a[-1:2])             # no \"cyclic\" indexing"
   ]
  },
  {
   "cell_type": "markdown",
   "metadata": {},
   "source": [
    "### Τροποποίηση Λιστών"
   ]
  },
  {
   "cell_type": "code",
   "execution_count": null,
   "metadata": {},
   "outputs": [],
   "source": [
    "x = [1, 2, 3, 4]\n",
    "x[len(x):] = [5, 6, 7]    # appends list to end of list\n",
    "print(x)\n",
    "x[:0] = [-1, 0]           # appends to front of list\n",
    "print(x)\n",
    "x[1:-1] = []              # removes elements\n",
    "print(x)\n",
    "x.append(\"hello\")         # appends single element to end\n",
    "print(x)\n",
    "x.append([1, 2, 3, 4])    # be careful: appends list\n",
    "print(x)\n",
    "x.extend([1, 2, 3, 4])    # extends list with list\n",
    "print(x)\n",
    "x =  [1, 2, 3] + [4, 5]    # List concatenation with \"+\"\n",
    "print(x)\n",
    "x = [1]*10                 # List initialization with \"*\"\n",
    "print(x)\n",
    "x = [1, 2]*3\n",
    "print(x)\n",
    "del x[2]                   # Deleteion of element at pos 2\n",
    "print(x)\n",
    "x.insert(2, \"hello\")       # Insertion of element at pos 2\n",
    "print(x)\n",
    "x[2] = 1\n",
    "x.sort()                   # Sorts (modifies) the list: elements need to be same type\n",
    "print(x)"
   ]
  },
  {
   "cell_type": "markdown",
   "metadata": {},
   "source": [
    "## Δομές Ελέγχου Ροής"
   ]
  },
  {
   "cell_type": "markdown",
   "metadata": {},
   "source": [
    "Η Python προσφέρει τρεις βασικές δομές ελέγχου ροής:\n",
    "* Προτάσεις <font color='blue'>if-elif-else</font>\n",
    "* Προτάσεις επανάληψης <font color='blue'>while</font>\n",
    "* Προτάσεις επανάληψης <font color='blue'>for</font>\n",
    "\n",
    "Η διατύπωση συνθηκών γίνεται με χρήση των:\n",
    "* τελεστών σύγκρισης <, <=, ==, >, >=, <font color='blue'>in</font>, <font color='blue'>not in</font>, που επιστρέφουν <font color='blue'>True</font> ή <font color='blue'>False</font>.\n",
    "* λογικών τελεστών <font color='blue'>and</font>, <font color='blue'>not</font>, <font color='blue'>or</font>, που επίσης επιστρέφουν <font color='blue'>True</font> ή <font color='blue'>False</font>."
   ]
  },
  {
   "cell_type": "code",
   "execution_count": null,
   "metadata": {},
   "outputs": [],
   "source": [
    "x = 1\n",
    "y = 2\n",
    "if x > 1:\n",
    "        print(\"x is larger than 1\")  # 4 spaces to the right\n",
    "elif x < 1:\n",
    "    print(\"x is smaller than 1\")     # 4 spaces to the right\n",
    "else:\n",
    "    print(\"y equals \" + str(y))      # 4 spaces to the right"
   ]
  },
  {
   "cell_type": "markdown",
   "metadata": {},
   "source": [
    "*__Η στοίχιση του κώδικα είναι σημαντική. Καθένα από τα if, elif, else, προσδιορίζουν ένα block κώδικα που θα εκτελεστεί σειριακά.__*"
   ]
  },
  {
   "cell_type": "code",
   "execution_count": null,
   "metadata": {},
   "outputs": [],
   "source": [
    "x, count = 1024, 0\n",
    "while x > 1:\n",
    "    x = x // 2    # Divide x by 2 (integer division)\n",
    "    count += 1    # increase counter by 1\n",
    "    print(\"subdivision count: \" + str(count))"
   ]
  },
  {
   "cell_type": "markdown",
   "metadata": {},
   "source": [
    "Η εντολή <font color='blue'>for</font> της Python είναι πιο ισχυρή συγκριτικά με άλλες γλώσσες: επιτρέπει επανάληψη πάνω από τα στοιχεία λίστας, πλειάδας, ή συνόλου."
   ]
  },
  {
   "cell_type": "code",
   "execution_count": null,
   "metadata": {},
   "outputs": [],
   "source": [
    "items = [1, 3, 2, \"hello\", 4, 5]\n",
    "for i in items:   # i obtains sequentially each value\n",
    "    print(i)"
   ]
  },
  {
   "cell_type": "markdown",
   "metadata": {},
   "source": [
    "Ένας τύπος __εύρους__, που χρησιμοποιείται συχνά με τη <font color='blue'>for</font> ορίζεται με τη συνάρτηση <font color='blue'>range</font>:"
   ]
  },
  {
   "cell_type": "code",
   "execution_count": null,
   "metadata": {},
   "outputs": [],
   "source": [
    "for i in range(4):\n",
    "        print(i)\n",
    "for i in range(2, 12, 3):\n",
    "        print(i)"
   ]
  },
  {
   "cell_type": "markdown",
   "metadata": {},
   "source": [
    "## Ορισμός Συναρτήσεων"
   ]
  },
  {
   "cell_type": "markdown",
   "metadata": {},
   "source": [
    "Οι συναρτήσεις ορίζονται με τη λέξη <font color='blue'>def</font>. Ακολουθούν: το όνομα, η λίστα των τυπικών παραμέτρων (ορισμάτων) εντός παρενθέσεως και ένα \":\". Έτσι ορίζεται η \"επικεφαλίδα\" της συνάρτησης. Μία συνάρτηση ορίζει ένα block, επομένως, μετά την επικεφαλίδα (στην επόμενη γραμμή), όλες οι εντολές θα πρέπει να μετακινηθούν 4 θέσεις προς τα δεξιά.\n",
    "\n",
    "Οι συναρτήσεις μπορούν να επιστρέφουν τιμή με ρητό τρόπο, με χρήση της λέξης <font color='blue'>return</font>. Αν δε χρησιμοποιηθεί εντολή <font color='blue'>return</font>, επιστρέφουν <font color='blue'>None</font>."
   ]
  },
  {
   "cell_type": "code",
   "execution_count": null,
   "metadata": {},
   "outputs": [],
   "source": [
    "def add(a, b):  # definition of function 'add' \n",
    "    c = a + b   # a statement\n",
    "    return c    # return statement\n",
    "\n",
    "add(5, 6)       # function call"
   ]
  },
  {
   "cell_type": "code",
   "execution_count": null,
   "metadata": {},
   "outputs": [],
   "source": [
    "def nothing(a, b):  # a function returning nothing\n",
    "    c = a*b         # but doing a little something\n",
    "\n",
    "c = nothing(3, 4)\n",
    "type(c)"
   ]
  },
  {
   "cell_type": "markdown",
   "metadata": {},
   "source": [
    "## Βασικός Χειρισμός Αρχείων Κειμένου"
   ]
  },
  {
   "cell_type": "markdown",
   "metadata": {},
   "source": [
    "* Άνοιγμα και Κλείσιμο Αρχείου για ανάγνωση/εγγραφή με τις συναρτήσεις <font color='blue'>open</font> και <font color='blue'>close</font>\n",
    "* Ανάγνωση μίας γραμμής με τη συνάρτηση <font color='blue'>readline</font>\n",
    "* Εγγραφή μίας γραμμής με τη συνάρτηση <font color='blue'>write</font>"
   ]
  },
  {
   "cell_type": "code",
   "execution_count": null,
   "metadata": {},
   "outputs": [],
   "source": [
    "fobject = open(\"fileName\", \"r\")    # opens file for reading\n",
    "firstLine = fobject.readline()     # reads first line\n",
    "secondLine = fobject.readline()    # reads second line\n",
    "print(firstLine, secondLine)       # prints\n",
    "fobject.close()                    # closes file\n",
    "fobject = open(\"myFile\", \"w\")      # opens file for writing\n",
    "fobject.write(\"1st line of file\\n\")# writes a line \n",
    "fobject.write(\"2nd line of file\\n\")# writes another line\n",
    "fobject.close()                    # closes file"
   ]
  },
  {
   "cell_type": "markdown",
   "metadata": {},
   "source": [
    "## Modules"
   ]
  },
  {
   "cell_type": "markdown",
   "metadata": {},
   "source": [
    "Module είναι κάθε αρχείο με κώδικα Python. Ένα module ορίζει συναρτήσεις, κλάσεις κ.λ.π. Μπορείτε να το \"εισάγετε\" στον τρέχοντα κώδικα με χρήση της εντολής <font color='blue'>import</font>. Αν, π.χ., το αρχείο σας ονομάζεται my_pycode.py, μπορείτε να δώσετε:"
   ]
  },
  {
   "cell_type": "code",
   "execution_count": null,
   "metadata": {},
   "outputs": [],
   "source": [
    "import my_pycode    # imports all of the definitions of module numpy"
   ]
  },
  {
   "cell_type": "markdown",
   "metadata": {},
   "source": [
    "Μία συνάρτηση που ορίζεται εντός του my_pycode.py με όνομα myFunction, μπορεί να κληθεί στον τρέχοντα κώδικα με \"my_pycode.myFunction\". Πολλές φορές είναι βολικό να αλλάζουμε το όνομα του module. Αυτό γίνεται όταν το \"εισάγουμε\" με την εντολή <font color='blue'>import</font>, ως εξής:"
   ]
  },
  {
   "cell_type": "code",
   "execution_count": null,
   "metadata": {},
   "outputs": [],
   "source": [
    "import my_pycode as mpc"
   ]
  },
  {
   "cell_type": "markdown",
   "metadata": {},
   "source": [
    "Στη συνέχεια μπορούμε να καλούμε τη συνάρτηση myFunction με \"mpc.myFunction\". Υπάρχει επίσης η δυνατότητα να εισάγουμε τη συνάρτηση myFunction απευθείας στον \"χώρο ονομάτων\" του τρέχοντος κώδικα (εφόσον δεν πρόκειται να οριστεί κάποια συνάρτηση με το ίδιο όνομα):"
   ]
  },
  {
   "cell_type": "code",
   "execution_count": null,
   "metadata": {},
   "outputs": [],
   "source": [
    "from my_pycode import myFunction"
   ]
  },
  {
   "cell_type": "markdown",
   "metadata": {},
   "source": [
    "Στην περίπτωση αυτή μπορούμε να καλέσουμε τη συνάρτηση απλώς με \"myFunction\"."
   ]
  },
  {
   "cell_type": "markdown",
   "metadata": {},
   "source": [
    "## Ορισμός Κλάσεων"
   ]
  },
  {
   "cell_type": "markdown",
   "metadata": {},
   "source": [
    "Η Python είναι αντικειμενοστραφής γλώσσα και προσφέρει ένα απλό και λειτουργικό μοντέλο αντικειμένων. Ο βασικός μηχανισμός ορισμού αντικειμένων είναι οι κλάσεις (αντικειμένων). Μία κλάση αντικειμένων μπορεί να διαθέτει πεδία και μεθόδους (συναρτήσεις/λειτουργίες) που επιδρούν πάνω στα πεδία επιτελώντας κάποιον υπολογισμό."
   ]
  },
  {
   "cell_type": "code",
   "execution_count": null,
   "metadata": {},
   "outputs": [],
   "source": [
    "class Circle:                    # a class for circles\n",
    "    def __init__(self, radius):  # constructor needs radius\n",
    "        self.radius = radius     # defines instance variable\n",
    "\n",
    "    def area(self):              # method returning area\n",
    "        return self.radius*self.radius*3.14\n",
    "    \n",
    "myCircle = Circle(1)\n",
    "print(\"The area of the circle is \" + str(myCircle.area()))\n",
    "print(\"The radius of the circle is \" + str(myCircle.radius))\n",
    "myCircle.name = \"my own circle\"  # surprise!\n",
    "myCircle.name"
   ]
  },
  {
   "cell_type": "markdown",
   "metadata": {},
   "source": [
    "Οι κλάσεις στην Python δεν έχουν private πεδία ή μεθόδους. Συμβατικά, τα πεδία (ή οι μέθοδοι) που επιθυμούμε να μην προσβαίνονται άμεσα από χρήστες της κλάσεις έχουν όνομα που ξεκινά με \"_\" (underscore). Αν θέλουμε να προσομοιώσουμε private πεδία ή μεθόδους, μπορούμε να χρησιμοποιήσουμε \"__\" (διπλό underscore) στην αρχή του ονόματός τους. Αυτό όμως δεν κάνει τα πεδία ή τις μεθόδους πραγματικά \"private\" (απλώς μεταβάλει το όνομά τους σε κάτι μη προφανές, ώστε να μην τα βρίσκει ο χρήστης). Καλύτερα είναι να αποφεύγεται το διπλό underscore."
   ]
  },
  {
   "cell_type": "code",
   "execution_count": null,
   "metadata": {},
   "outputs": [],
   "source": []
  }
 ],
 "metadata": {
  "kernelspec": {
   "display_name": "Python 3",
   "language": "python",
   "name": "python3"
  },
  "language_info": {
   "codemirror_mode": {
    "name": "ipython",
    "version": 3
   },
   "file_extension": ".py",
   "mimetype": "text/x-python",
   "name": "python",
   "nbconvert_exporter": "python",
   "pygments_lexer": "ipython3",
   "version": "3.6.4"
  }
 },
 "nbformat": 4,
 "nbformat_minor": 2
}
