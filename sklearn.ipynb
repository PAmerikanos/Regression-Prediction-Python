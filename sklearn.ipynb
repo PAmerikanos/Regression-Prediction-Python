{
 "cells": [
  {
   "cell_type": "markdown",
   "metadata": {},
   "source": [
    "# Η Βιβλιοθήκη SciKit-Learn\n",
    "\n",
    "Είναι πλήρης βιβλιοθήκη Python για Μηχανική Μάθηση. Περιλαμβάνει:\n",
    "* Αλγορίθμους Κατηγοριοποίησης (Classification)\n",
    "* Αλγορίθμους Παλινδρόμησης (Regression)\n",
    "* Αλγορίθμους Συσταδοποίησης (Clustering)\n",
    "* Μεθόδους Απομείωσης Διαστασιμότητας και Επιλογής Μοντέλου\n",
    "* Εργαλεία Προεπεξεργασίας Δεδομένων\n",
    "\n",
    "Μερικά κλασικά datasets περιλαμβάνονται στη βιβλιοθήκη:\n",
    "* **Iris** (Κατηγοριοποίηση, 3 κλάσεις)\n",
    "* **Boston Housing** (Παλινδρόμηση, 13 Χαρακτηριστικά)\n",
    "* **Diabetes** (Παλινδρόμηση)\n",
    "* **Digits** (Κατηγοριοποίηση, 10 κλάσεις)\n",
    "* **Breast Cancer** (Κατηγοριοποίηση, 2 Κλάσεις)\n",
    "* **Wine** (Κατηγοριοποίηση, 3 κλάσεις)\n",
    "\n",
    "Βρίσκονται στο module datasets του module sklearn:"
   ]
  },
  {
   "cell_type": "code",
   "execution_count": 1,
   "metadata": {},
   "outputs": [],
   "source": [
    "from sklearn import datasets    # import the datasets\n",
    "iris = datasets.load_iris()     # load \"Iris\" and store it in a variable iris\n",
    "boston = datasets.load_boston() # load \"Boston Housing\" and store it in a variable boston\n",
    "digits = datasets.load_digits() # load \"Digits\" and store it in a variable digits"
   ]
  },
  {
   "cell_type": "markdown",
   "metadata": {},
   "source": [
    "Μπορούμε να προσβαίνουμε στα δεδομένα καθεαυτά με τα ακόλουθα πεδία του αντικειμένου που τα μοντελοποιούν:\n",
    "* iris.data: \"πίνακας **Χ**\", ένα 2D numpy.ndarray\n",
    "* iris.target: \"διάνυσμα **y**\", ένα 1D numpy.ndarray\n",
    "* iris.DESCR: περιγραφή, Python <font color='blue'>str</font>\n",
    "* iris.feature_names: ονόματα χαρακτηριστικών, Python <font color='blue'>list</font> από <font color='blue'>str</font>\n",
    "* iris.target_names: ονόματα κατηγοριών, Python <font color='blue'>list</font> από <font color='blue'>str</font>"
   ]
  },
  {
   "cell_type": "code",
   "execution_count": 2,
   "metadata": {},
   "outputs": [
    {
     "name": "stdout",
     "output_type": "stream",
     "text": [
      "[0 0 0 0 0 0 0 0 0 0 0 0 0 0 0 0 0 0 0 0 0 0 0 0 0 0 0 0 0 0 0 0 0 0 0 0 0\n",
      " 0 0 0 0 0 0 0 0 0 0 0 0 0 1 1 1 1 1 1 1 1 1 1 1 1 1 1 1 1 1 1 1 1 1 1 1 1\n",
      " 1 1 1 1 1 1 1 1 1 1 1 1 1 1 1 1 1 1 1 1 1 1 1 1 1 1 2 2 2 2 2 2 2 2 2 2 2\n",
      " 2 2 2 2 2 2 2 2 2 2 2 2 2 2 2 2 2 2 2 2 2 2 2 2 2 2 2 2 2 2 2 2 2 2 2 2 2\n",
      " 2 2]\n"
     ]
    },
    {
     "data": {
      "text/plain": [
       "'Iris Plants Database\\n====================\\n\\nNotes\\n-----\\nData Set Characteristics:\\n    :Number of Instances: 150 (50 in each of three classes)\\n    :Number of Attributes: 4 numeric, predictive attributes and the class\\n    :Attribute Information:\\n        - sepal length in cm\\n        - sepal width in cm\\n        - petal length in cm\\n        - petal width in cm\\n        - class:\\n                - Iris-Setosa\\n                - Iris-Versicolour\\n                - Iris-Virginica\\n    :Summary Statistics:\\n\\n    ============== ==== ==== ======= ===== ====================\\n                    Min  Max   Mean    SD   Class Correlation\\n    ============== ==== ==== ======= ===== ====================\\n    sepal length:   4.3  7.9   5.84   0.83    0.7826\\n    sepal width:    2.0  4.4   3.05   0.43   -0.4194\\n    petal length:   1.0  6.9   3.76   1.76    0.9490  (high!)\\n    petal width:    0.1  2.5   1.20  0.76     0.9565  (high!)\\n    ============== ==== ==== ======= ===== ====================\\n\\n    :Missing Attribute Values: None\\n    :Class Distribution: 33.3% for each of 3 classes.\\n    :Creator: R.A. Fisher\\n    :Donor: Michael Marshall (MARSHALL%PLU@io.arc.nasa.gov)\\n    :Date: July, 1988\\n\\nThis is a copy of UCI ML iris datasets.\\nhttp://archive.ics.uci.edu/ml/datasets/Iris\\n\\nThe famous Iris database, first used by Sir R.A Fisher\\n\\nThis is perhaps the best known database to be found in the\\npattern recognition literature.  Fisher\\'s paper is a classic in the field and\\nis referenced frequently to this day.  (See Duda & Hart, for example.)  The\\ndata set contains 3 classes of 50 instances each, where each class refers to a\\ntype of iris plant.  One class is linearly separable from the other 2; the\\nlatter are NOT linearly separable from each other.\\n\\nReferences\\n----------\\n   - Fisher,R.A. \"The use of multiple measurements in taxonomic problems\"\\n     Annual Eugenics, 7, Part II, 179-188 (1936); also in \"Contributions to\\n     Mathematical Statistics\" (John Wiley, NY, 1950).\\n   - Duda,R.O., & Hart,P.E. (1973) Pattern Classification and Scene Analysis.\\n     (Q327.D83) John Wiley & Sons.  ISBN 0-471-22361-1.  See page 218.\\n   - Dasarathy, B.V. (1980) \"Nosing Around the Neighborhood: A New System\\n     Structure and Classification Rule for Recognition in Partially Exposed\\n     Environments\".  IEEE Transactions on Pattern Analysis and Machine\\n     Intelligence, Vol. PAMI-2, No. 1, 67-71.\\n   - Gates, G.W. (1972) \"The Reduced Nearest Neighbor Rule\".  IEEE Transactions\\n     on Information Theory, May 1972, 431-433.\\n   - See also: 1988 MLC Proceedings, 54-64.  Cheeseman et al\"s AUTOCLASS II\\n     conceptual clustering system finds 3 classes in the data.\\n   - Many, many more ...\\n'"
      ]
     },
     "execution_count": 2,
     "metadata": {},
     "output_type": "execute_result"
    }
   ],
   "source": [
    "print(iris.target)\n",
    "iris.DESCR"
   ]
  },
  {
   "cell_type": "markdown",
   "metadata": {},
   "source": [
    "### 1. Γεννήτριες Τυχαίων Δεδομένων\n",
    "\n",
    "**Για παλινδρόμηση:** datasets.make_regression\n",
    "\n",
    "Μερικά προαιρετικά ορίσματα:\n",
    "* n_samples = πλήθος παραδειγμάτων εκπαίδευσης (default = 100)\n",
    "* n_features = πλήθος χαρακτηριστικών (default = 100)\n",
    "* n_targets = διάσταση τιμών y (default = 1)\n",
    "* noise = τυπική απόκλιση Gaussian θορύβου (default = 0)\n",
    "* random_state = seed τυχαιότητας (default = None)\n",
    "\n",
    "Παράδειγμα:"
   ]
  },
  {
   "cell_type": "code",
   "execution_count": 3,
   "metadata": {},
   "outputs": [
    {
     "name": "stdout",
     "output_type": "stream",
     "text": [
      "X.shape = (100, 100), y.shape = (100,)\n"
     ]
    }
   ],
   "source": [
    "X, y = datasets.make_regression()    # Returns a tuple (X, y)\n",
    "print(\"X.shape = \" + str(X.shape) + \", y.shape = \" + str(y.shape))"
   ]
  },
  {
   "cell_type": "markdown",
   "metadata": {},
   "source": [
    "**Για κατηγοριοποίηση:** datasets.make_classification\n",
    "\n",
    "Μερικά προαιρετικά ορίσματα:\n",
    "* n_samples = πλήθος παραδειγμάτων εκπαίδευσης (default = 100)\n",
    "* n_features = πλήθος χαρακτηριστικών (default = 2)\n",
    "* n_classes = πλήθος διαφορετικών κλάσεων (default = 5)\n",
    "* n_labels = πλήθος κλάσεων ανά παράδειγμα (default = 2)\n",
    "* random_state = seed τυχαιότητας (default = None)\n",
    "\n",
    "Επιστρέφει πλειάδα -- ζεύγος -- (**Χ**, **y**), όπου:\n",
    "* To **y** είναι διδιάστατος numpy.ndarray πίνακας,\n",
    "* Κάθε γραμμή του έχει \"1\" στη στήλη της κλάσης για το παράδειγμα εκπαίδευσης που αντιστοιχεί στη γραμμή.\n",
    "* Εκτός αν οι κλάσεις είναι δύο, οπότε είναι μονοδιάστατο numpy.ndarray."
   ]
  },
  {
   "cell_type": "code",
   "execution_count": 4,
   "metadata": {},
   "outputs": [
    {
     "name": "stdout",
     "output_type": "stream",
     "text": [
      "X.shape = (100, 20), y.shape = (100,)\n"
     ]
    }
   ],
   "source": [
    "X, y = datasets.make_classification()    # Returns a tuple (X, y)\n",
    "print(\"X.shape = \" + str(X.shape) + \", y.shape = \" + str(y.shape))"
   ]
  },
  {
   "cell_type": "markdown",
   "metadata": {},
   "source": [
    "### 2. Φόρτωση/Ανάγνωση Δεδομένων\n",
    "\n",
    "Προσφέρεται η συνάρτηση load_svmlight_file του χώρου ονομάτων datasets στο module sklearn, για την ανάγνωση αρχείων δεδομένων σε μορφή LIBSVM (αραιή μορφή, στην οποία παραλείπονται τα features με τιμή 0). Η συνάρτηση επιστρέφει \"αραιό\" τύπο πίνακα που ορίζεται στη βιβλιοθήκη SciPy και μπορεί να μετατραπεί σε NumPy array εύκολα. Για παράδειγμα, το dataset \"glass.scale\" που είναι διαθέσιμο από το site της LIBSVM:"
   ]
  },
  {
   "cell_type": "code",
   "execution_count": 50,
   "metadata": {},
   "outputs": [
    {
     "name": "stdout",
     "output_type": "stream",
     "text": [
      "(214, 9)\n",
      "(214,)\n"
     ]
    }
   ],
   "source": [
    "glass = datasets.load_svmlight_file(\"glass.scale\")   # returns tuple of dense matrix and target array\n",
    "# glass[0] is the features matrix\n",
    "# glass[1] is the target values matrix\n",
    "\n",
    "X = glass[0].toarray()   # convert to numpy array\n",
    "y = glass[1]\n",
    "print(X.shape)\n",
    "print(y.shape)"
   ]
  },
  {
   "cell_type": "markdown",
   "metadata": {},
   "source": [
    "### 3. Γραμμική Παλινδρόμηση\n",
    "\n",
    "Υλοποιείται στο module linear_model:\n",
    "* Η μέθοδος fit υλοποιεί τον υπολογισμό.\n",
    "* Το **X** του training set δίνεται σαν λίστα από λίστες Python (ή σαν πίνακας numpy.ndarray).\n",
    "* Οι τιμές-στόχος **y** δίνονται σαν λίστα Python (ή σαν numpy array -- μονοδιάστατο).\n",
    "\n",
    "**Παράδειγμα**"
   ]
  },
  {
   "cell_type": "code",
   "execution_count": 6,
   "metadata": {},
   "outputs": [
    {
     "name": "stdout",
     "output_type": "stream",
     "text": [
      "[1.36743772]\n",
      "-16.863879003558793\n"
     ]
    }
   ],
   "source": [
    "from sklearn import linear_model                                                   # Includes Several methods\n",
    "lreg = linear_model.LinearRegression(normalize = True)                             # Create linear regression object\n",
    "lreg.fit([[35], [65], [90], [120], [160], [200]], [45, 50, 100, 170, 190, 260])    # Fit line to data\n",
    "print(lreg.coef_)                                                                  # Read the coefficients \n",
    "print(lreg.intercept_)                                                             # Read intercept (constant term)"
   ]
  },
  {
   "cell_type": "markdown",
   "metadata": {},
   "source": [
    "**Πρόβλεψη** γίνεται με τη μέθοδο predict του αντικειμένου γραμμικής παλινδρόμησης, στην οποία δίνουμε σαν όρισμα έναν πίνακα με τα χαρακτηριστικά των παραδειγμάτων για τα οποία θέλουμε να προβλέψουμε το y."
   ]
  },
  {
   "cell_type": "code",
   "execution_count": 7,
   "metadata": {},
   "outputs": [
    {
     "data": {
      "text/plain": [
       "array([ 30.99644128,  72.01957295, 106.20551601, 147.22864769,\n",
       "       201.92615658, 256.62366548])"
      ]
     },
     "execution_count": 7,
     "metadata": {},
     "output_type": "execute_result"
    }
   ],
   "source": [
    "lreg.predict([[35], [65], [90], [120], [160], [200]])    # Predict y-value for each of these examples"
   ]
  },
  {
   "cell_type": "markdown",
   "metadata": {},
   "source": [
    "**Υπολογισμός τετραγωνικής ρίζας μέσου τετραγωνικού σφάλματος:**"
   ]
  },
  {
   "cell_type": "code",
   "execution_count": 8,
   "metadata": {},
   "outputs": [
    {
     "data": {
      "text/plain": [
       "15.229560130856024"
      ]
     },
     "execution_count": 8,
     "metadata": {},
     "output_type": "execute_result"
    }
   ],
   "source": [
    "import numpy as np\n",
    "np.sqrt(sum((lreg.predict([[35], [65], [90], [120], [160], [200]]) -[45, 50, 100, 170, 190, 260])**2)/6)"
   ]
  },
  {
   "cell_type": "markdown",
   "metadata": {},
   "source": [
    "### 4. Ridge Regression\n",
    "\n",
    "Είναι γραμμική παλινδρόμηση με *\"ταχτοποίηση\"*: τιμωρεί τις μεγάλες τιμές των συντελεστών του υπερεπιπέδου (εξαιρουμένης της σταθεράς), στη συνάρτηση σφάλματος. Ουσιαστικά, προσθέτουμε στη συνάρτηση του μέσου τετραγωνικού σφάλματος έναν επιπλέον όρο, που συνίσταται στο μέσο άθροισμα των τετραγώνων των παραμέτρων παλινδρόμησης, πολλαπλασιασμένο με μία μετα-παράμετρο **λ**.\n",
    "\n",
    "Ορίσματα του Constructor:\n",
    "* alpha: η τιμή του **λ** στον τύπο (default = 1.0)\n",
    "* normalize: επιλογή ή όχι κανονικοποίησης (default = False)\n",
    "* solver: επιλογή επιλυτή (default = 'auto')\n",
    "* tol: ακρίβεια ελαχιστοποίησης σφάλματος (default = 0.001)\n",
    "* max_iter: μέγιστο πλήθος επαναλήψεων (default = None)"
   ]
  },
  {
   "cell_type": "code",
   "execution_count": 27,
   "metadata": {},
   "outputs": [
    {
     "name": "stdout",
     "output_type": "stream",
     "text": [
      "[1.36736473]\n",
      "-16.855728341903472\n"
     ]
    },
    {
     "data": {
      "text/plain": [
       "array([ 31.00203726,  72.0229792 , 106.20709749, 147.22803943,\n",
       "       201.92262869, 256.61721794])"
      ]
     },
     "execution_count": 27,
     "metadata": {},
     "output_type": "execute_result"
    }
   ],
   "source": [
    "from sklearn import linear_model\n",
    "rreg = linear_model.Ridge()\n",
    "rreg.fit([[35], [65], [90], [120], [160], [200]],\n",
    "         [45, 50, 100, 170, 190, 260])\n",
    "print(rreg.coef_)\n",
    "print(rreg.intercept_)\n",
    "rreg.predict([[35], [65], [90], [120], [160], [200]])"
   ]
  },
  {
   "cell_type": "markdown",
   "metadata": {},
   "source": [
    "**Επιλυτές:**\n",
    "* solver='lsqr': Επαναληπτική Least Squares Μέθοδος της SciPy.\n",
    "* solver='sparse_cg': Μέθοδος Conjugate Gradient.\n",
    "* solver='sag': Στοχαστική Average Gradient, για μεγάλα datasets.\n",
    "* solver='cholesky': Εξάγει τους συντελεστές με \"κλειστό τύπο\".\n",
    "* solver='svd': Χρησιμοποιεί SVD για υπολογισμό των παραμέτρων."
   ]
  },
  {
   "cell_type": "markdown",
   "metadata": {},
   "source": [
    "### 5. \"Σπάσιμο\" Δεδομένων σε \"Training\" και \"Test\" Set\n",
    "\n",
    "Με τη μέθοδο train_test_split του module sklearn.model_selection, που επιστρέφει όλα τα σύνολα δεδομένων σε πλειάδα:"
   ]
  },
  {
   "cell_type": "code",
   "execution_count": 28,
   "metadata": {},
   "outputs": [],
   "source": [
    "from sklearn import datasets\n",
    "from sklearn.model_selection import train_test_split\n",
    "iris = datasets.load_iris()                                             # Load dataset\n",
    "X = iris.data; y = iris.target                                          # Get data matrices\n",
    "Xtrain, Xtest, ytrain, ytest = train_test_split(X, y, test_size=0.3)    # Split in Training and Test Sets"
   ]
  },
  {
   "cell_type": "markdown",
   "metadata": {},
   "source": [
    "Το όρισμα test_size τίθεται στο ποσοστό του dataset που θα εξυπηρετήσει ως test set."
   ]
  },
  {
   "cell_type": "markdown",
   "metadata": {},
   "source": [
    "### 6. Λογιστική Παλινδρόμηση\n",
    "\n",
    "Υλοποιείται από την κλάση LogisticRegression που βρίσκεται στο namespace linear_model του module sklearn:"
   ]
  },
  {
   "cell_type": "code",
   "execution_count": 29,
   "metadata": {},
   "outputs": [],
   "source": [
    "from sklearn.linear_model import LogisticRegression    # Import the class definition\n",
    "logr = LogisticRegression(C=1000.0, random_state=0)    # C is a regularization constant"
   ]
  },
  {
   "cell_type": "markdown",
   "metadata": {},
   "source": [
    "<font color='red'>**Σημείωση:**</font> Η σταθερά C είναι για τον επιπλέον όρο *\"ταχτοποίησης\"* στον τύπο του λογιστικού σφάλματος, και είναι το \"**λ**\" που αναφέραμε στην περιγραφή του τύπου στο μάθημα."
   ]
  },
  {
   "cell_type": "code",
   "execution_count": 30,
   "metadata": {},
   "outputs": [
    {
     "data": {
      "text/plain": [
       "LogisticRegression(C=1000.0, class_weight=None, dual=False,\n",
       "          fit_intercept=True, intercept_scaling=1, max_iter=100,\n",
       "          multi_class='ovr', n_jobs=1, penalty='l2', random_state=0,\n",
       "          solver='liblinear', tol=0.0001, verbose=0, warm_start=False)"
      ]
     },
     "execution_count": 30,
     "metadata": {},
     "output_type": "execute_result"
    }
   ],
   "source": [
    "logr.fit(Xtrain, ytrain)  # train the logistic predictor"
   ]
  },
  {
   "cell_type": "markdown",
   "metadata": {},
   "source": [
    "<font color='red'>**Σημείωση:**</font> Η λογιστική παλινδρόμηση χρησιμοποιεί αυτόματα *\"One-vs-Rest\"* μοντέλο για δεδομένα με περισσότερες των δύο κλάσεων.\n",
    "\n",
    "H πρόβλεψη πραγματοποιείται με τη μέθοδο predict της κλάσης LogisticRegression (άρα, του αντικειμένου logr):"
   ]
  },
  {
   "cell_type": "code",
   "execution_count": 31,
   "metadata": {},
   "outputs": [
    {
     "data": {
      "text/plain": [
       "array([0, 1, 2, 1, 2, 2, 0, 2, 2, 1, 1, 0, 0, 1, 0, 1, 1, 2, 2, 0, 0, 1,\n",
       "       1, 0, 1, 2, 1, 0, 2, 0, 0, 2, 0, 0, 1, 1, 2, 2, 0, 2, 2, 0, 0, 1,\n",
       "       0])"
      ]
     },
     "execution_count": 31,
     "metadata": {},
     "output_type": "execute_result"
    }
   ],
   "source": [
    "logr.predict(Xtest)    # predict on test examples"
   ]
  },
  {
   "cell_type": "markdown",
   "metadata": {},
   "source": [
    "Υπάρχει επίσης δυνατότητα υπολογισμού των πιθανοτήτων, με τη μέθοδο predict_proba:"
   ]
  },
  {
   "cell_type": "code",
   "execution_count": 32,
   "metadata": {},
   "outputs": [
    {
     "data": {
      "text/plain": [
       "array([[7.77622065e-01, 2.22377935e-01, 3.60726702e-31],\n",
       "       [4.98240858e-04, 9.99501759e-01, 4.98640839e-10],\n",
       "       [4.33736052e-09, 3.88861661e-01, 6.11138334e-01],\n",
       "       [7.95806619e-07, 9.97745496e-01, 2.25370800e-03],\n",
       "       [1.50808217e-07, 1.22145744e-01, 8.77854106e-01],\n",
       "       [5.24128418e-10, 3.36254289e-02, 9.66374571e-01],\n",
       "       [9.37234683e-01, 6.27653173e-02, 6.11760814e-35],\n",
       "       [1.73020871e-09, 2.53311956e-01, 7.46688042e-01],\n",
       "       [1.12553316e-10, 2.52504580e-01, 7.47495420e-01],\n",
       "       [2.78028853e-05, 9.99972194e-01, 2.77091547e-09],\n",
       "       [7.20082249e-05, 9.99927991e-01, 5.89522491e-10],\n",
       "       [9.17352386e-01, 8.26476141e-02, 3.52667221e-38],\n",
       "       [7.37312563e-01, 2.62687437e-01, 1.85014368e-33],\n",
       "       [2.63038856e-05, 9.99724975e-01, 2.48721269e-04],\n",
       "       [8.84327436e-01, 1.15672564e-01, 1.09715686e-35],\n",
       "       [1.36045812e-06, 9.99975639e-01, 2.30004433e-05],\n",
       "       [8.01312033e-06, 9.99991985e-01, 1.55107804e-09],\n",
       "       [6.30839436e-10, 8.12546636e-02, 9.18745336e-01],\n",
       "       [2.48442297e-09, 5.17595583e-02, 9.48240439e-01],\n",
       "       [9.83624622e-01, 1.63753781e-02, 2.91833357e-37],\n",
       "       [9.35008347e-01, 6.49916532e-02, 8.45575565e-37],\n",
       "       [1.38310986e-06, 9.98432481e-01, 1.56613583e-03],\n",
       "       [6.15780795e-05, 9.99936456e-01, 1.96585451e-06],\n",
       "       [8.42110886e-01, 1.57889114e-01, 5.44554096e-32],\n",
       "       [3.55893126e-04, 9.99644107e-01, 3.11976213e-10],\n",
       "       [2.69851794e-14, 4.22494633e-01, 5.77505367e-01],\n",
       "       [2.52041685e-06, 9.14002770e-01, 8.59947093e-02],\n",
       "       [7.25065684e-01, 2.74934316e-01, 2.26229582e-30],\n",
       "       [7.18945173e-10, 4.07159584e-01, 5.92840415e-01],\n",
       "       [7.26267501e-01, 2.73732499e-01, 4.62981820e-32],\n",
       "       [7.70353849e-01, 2.29646151e-01, 2.92937094e-33],\n",
       "       [1.86639267e-08, 3.30332014e-01, 6.69667967e-01],\n",
       "       [9.10378457e-01, 8.96215433e-02, 5.81220704e-32],\n",
       "       [9.26353291e-01, 7.36467086e-02, 2.53702615e-35],\n",
       "       [1.29194151e-05, 9.99987060e-01, 2.01237150e-08],\n",
       "       [5.77101816e-07, 9.99990040e-01, 9.38244001e-06],\n",
       "       [2.41490895e-11, 3.97028844e-01, 6.02971156e-01],\n",
       "       [3.00155284e-11, 1.86879575e-01, 8.13120425e-01],\n",
       "       [8.96415811e-01, 1.03584189e-01, 3.09846638e-35],\n",
       "       [2.17551590e-10, 4.73048758e-01, 5.26951242e-01],\n",
       "       [2.23005882e-11, 8.43451069e-02, 9.15654893e-01],\n",
       "       [7.19666712e-01, 2.80333288e-01, 1.96447877e-33],\n",
       "       [8.12403317e-01, 1.87596683e-01, 5.04446651e-30],\n",
       "       [2.23581686e-05, 9.99977591e-01, 5.09268259e-08],\n",
       "       [9.51652136e-01, 4.83478639e-02, 3.25012445e-36]])"
      ]
     },
     "execution_count": 32,
     "metadata": {},
     "output_type": "execute_result"
    }
   ],
   "source": [
    "logr.predict_proba(Xtest)    # predict on test examples"
   ]
  },
  {
   "cell_type": "markdown",
   "metadata": {},
   "source": [
    "Και η δυνατότητα υπολογισμού του accuracy, με τη μέθοδο score:"
   ]
  },
  {
   "cell_type": "code",
   "execution_count": 33,
   "metadata": {},
   "outputs": [
    {
     "data": {
      "text/plain": [
       "0.9555555555555556"
      ]
     },
     "execution_count": 33,
     "metadata": {},
     "output_type": "execute_result"
    }
   ],
   "source": [
    "logr.score(Xtest, ytest)    # accuracy on test set"
   ]
  },
  {
   "cell_type": "markdown",
   "metadata": {},
   "source": [
    "**Μερικά ορίσματα του constructor LogisticRegression:**\n",
    "* C: συντελεστής *ταχτοποίησης* (regularization) παραμέτρων, default = 1.\n",
    "* max_iter: μέγιστο πλήθος επαναλήψεων, default = 100.\n",
    "* random_state: seed τυχαιότητας, default = None.\n",
    "* solver: επιλογή επιλυτή, default = 'liblinear'\n",
    "* tol: ελάχιστο βελτίωσης, default = 0.0001\n",
    "\n",
    "**Επιλυτές:**\n",
    "* solver = 'newton-cg': Newton Conjugate Gradient, ταχεία σύγκλιση.\n",
    "* solver = 'lbgfs':     Για μεγαλύτερα datasets.\n",
    "* solver = 'liblinear': Για σχετικά μικρά datasets.\n",
    "* solber = 'sag':       Στοχαστική Average Gradient."
   ]
  },
  {
   "cell_type": "markdown",
   "metadata": {},
   "source": [
    "### 6. Μηχανές Διανυσμάτων Στήριξης (SVMs)\n",
    "\n",
    "Υλοποιούνται από την κλάση SVC του namespace svm του module sklearn, που αποτελεί interface για τη βιβλιοθήκη LibSVM. Η χρήση της κλάσης είναι παρόμοια με της κλάσης LogisticRegression, όπου στα ορίσματα του constructor περιλαμβάνεται, μεταξύ άλλων, η επιλογή συνάρτησης πυρήνα (kernel)."
   ]
  },
  {
   "cell_type": "code",
   "execution_count": 34,
   "metadata": {},
   "outputs": [
    {
     "data": {
      "text/plain": [
       "SVC(C=1.0, cache_size=200, class_weight=None, coef0=0.0,\n",
       "  decision_function_shape=None, degree=3, gamma='auto', kernel='linear',\n",
       "  max_iter=-1, probability=False, random_state=0, shrinking=True,\n",
       "  tol=0.001, verbose=False)"
      ]
     },
     "execution_count": 34,
     "metadata": {},
     "output_type": "execute_result"
    }
   ],
   "source": [
    "from sklearn.svm import SVC  # import the module for SVMs\n",
    "svm = SVC(kernel = 'linear', C = 1.0, random_state = 0)\n",
    "svm.fit(Xtrain, ytrain)"
   ]
  },
  {
   "cell_type": "markdown",
   "metadata": {},
   "source": [
    "Μπορούμε να λάβουμε μέτρηση της ακρίβειας (accuracy):"
   ]
  },
  {
   "cell_type": "code",
   "execution_count": 35,
   "metadata": {},
   "outputs": [
    {
     "data": {
      "text/plain": [
       "0.9555555555555556"
      ]
     },
     "execution_count": 35,
     "metadata": {},
     "output_type": "execute_result"
    }
   ],
   "source": [
    "svm.score(Xtest, ytest)    # accuracy on the test set"
   ]
  },
  {
   "cell_type": "markdown",
   "metadata": {},
   "source": [
    "Επιπλέον, μπορούμε να λάβουμε πρόβλεψη, τα indices των support vectors στον πίνακα Xtrain, το πλήθος των support vectors ανά κλάση, και τα support vectors καθεαυτά:"
   ]
  },
  {
   "cell_type": "code",
   "execution_count": 36,
   "metadata": {},
   "outputs": [
    {
     "data": {
      "text/plain": [
       "array([0, 1, 2, 1, 2, 2, 0, 2, 2, 1, 1, 0, 0, 1, 0, 1, 1, 2, 2, 0, 0, 1,\n",
       "       1, 0, 1, 2, 1, 0, 2, 0, 0, 2, 0, 0, 1, 1, 2, 2, 0, 2, 2, 0, 0, 1,\n",
       "       0])"
      ]
     },
     "execution_count": 36,
     "metadata": {},
     "output_type": "execute_result"
    }
   ],
   "source": [
    "svm.predict(Xtest)    # Prediction on test set"
   ]
  },
  {
   "cell_type": "code",
   "execution_count": 37,
   "metadata": {},
   "outputs": [
    {
     "data": {
      "text/plain": [
       "array([ 27,  31,  70,   1,  18,  44,  55,  58,  59,  74,  90,  93, 102,\n",
       "         2,   7,  10,  21,  29,  49,  60,  81,  83], dtype=int32)"
      ]
     },
     "execution_count": 37,
     "metadata": {},
     "output_type": "execute_result"
    }
   ],
   "source": [
    "svm.support_    # indices of support vector in Xtrain"
   ]
  },
  {
   "cell_type": "code",
   "execution_count": 38,
   "metadata": {},
   "outputs": [
    {
     "data": {
      "text/plain": [
       "array([ 3, 10,  9], dtype=int32)"
      ]
     },
     "execution_count": 38,
     "metadata": {},
     "output_type": "execute_result"
    }
   ],
   "source": [
    "svm.n_support_    # number of support vectors for each class"
   ]
  },
  {
   "cell_type": "code",
   "execution_count": 39,
   "metadata": {},
   "outputs": [
    {
     "data": {
      "text/plain": [
       "array([[5.1, 3.8, 1.9, 0.4],\n",
       "       [5.1, 3.3, 1.7, 0.5],\n",
       "       [4.5, 2.3, 1.3, 0.3],\n",
       "       [5.1, 2.5, 3. , 1.1],\n",
       "       [6.5, 2.8, 4.6, 1.5],\n",
       "       [6. , 2.9, 4.5, 1.5],\n",
       "       [6.3, 3.3, 4.7, 1.6],\n",
       "       [6.1, 3. , 4.6, 1.4],\n",
       "       [6.2, 2.2, 4.5, 1.5],\n",
       "       [5.4, 3. , 4.5, 1.5],\n",
       "       [6.7, 3. , 5. , 1.7],\n",
       "       [6.7, 3.1, 4.7, 1.5],\n",
       "       [6.3, 2.5, 4.9, 1.5],\n",
       "       [6.1, 3. , 4.9, 1.8],\n",
       "       [6.5, 3.2, 5.1, 2. ],\n",
       "       [6.2, 2.8, 4.8, 1.8],\n",
       "       [6.3, 2.8, 5.1, 1.5],\n",
       "       [6. , 3. , 4.8, 1.8],\n",
       "       [6. , 2.2, 5. , 1.5],\n",
       "       [6.3, 2.5, 5. , 1.9],\n",
       "       [5.9, 3. , 5.1, 1.8],\n",
       "       [6.3, 2.7, 4.9, 1.8]])"
      ]
     },
     "execution_count": 39,
     "metadata": {},
     "output_type": "execute_result"
    }
   ],
   "source": [
    "svm.support_vectors_    # the support vectors themselves"
   ]
  },
  {
   "cell_type": "markdown",
   "metadata": {},
   "source": [
    "**Μερικά ορίσματα του constructor:**\n",
    "* kernel: συνάρτηση πυρήνας ('rbf', 'poly', 'linear', 'sigmoid')\n",
    "* degree: βαθμός πολυωνυμικού πυρήνα, default = 3\n",
    "* gamma: συντελεστής πολυωνυμικού πυρήνα, default = 1/(πλήθος features)\n",
    "* tol: ακρίβεια βελτίωσης τερματισμού, default = 0.001\n",
    "* max_iter: πλήθος επαναλήψεων, default = -1"
   ]
  },
  {
   "cell_type": "markdown",
   "metadata": {},
   "source": [
    "### 7. k-Εγγύτεροι Γείτονες\n",
    "\n",
    "Υλοποιείται από την κλάση KNeighborsClassifier, του namespace neighbors, στο module sklearn:"
   ]
  },
  {
   "cell_type": "code",
   "execution_count": 40,
   "metadata": {},
   "outputs": [
    {
     "data": {
      "text/plain": [
       "array([0, 1, 2, 1, 2, 2, 0, 2, 2, 1, 1, 0, 0, 1, 0, 1, 1, 2, 2, 0, 0, 1,\n",
       "       1, 0, 1, 2, 1, 0, 2, 0, 0, 1, 0, 0, 1, 1, 2, 2, 0, 2, 2, 0, 0, 1,\n",
       "       0])"
      ]
     },
     "execution_count": 40,
     "metadata": {},
     "output_type": "execute_result"
    }
   ],
   "source": [
    "from sklearn.neighbors import KNeighborsClassifier\n",
    "knn = KNeighborsClassifier(n_neighbors = 5, p = 2, metric = 'minkowski')\n",
    "knn.fit(Xtrain, ytrain)\n",
    "knn.predict(Xtest)"
   ]
  },
  {
   "cell_type": "code",
   "execution_count": 41,
   "metadata": {},
   "outputs": [
    {
     "data": {
      "text/plain": [
       "0.9333333333333333"
      ]
     },
     "execution_count": 41,
     "metadata": {},
     "output_type": "execute_result"
    }
   ],
   "source": [
    "knn.score(Xtest, ytest)"
   ]
  },
  {
   "cell_type": "markdown",
   "metadata": {},
   "source": [
    "**Ορίσματα Constructor:**\n",
    "* n_neighbors: πλήθος (k) εγγύτερων γειτόνων\n",
    "* metric: επιλογή απόστασης (συμβολοσειρά ή αντικείμενο DistanceMetric)\n",
    "* p = 2: επιλέγει τον εκθέτη για την απόσταση Minkowski\n",
    "* algorithm: αλγόριθμος υπολογισμού ('auto', 'kd_tree', 'ball_tree', 'brute')\n",
    "* leaf_size: πλήθος φύλλων του δέντρου, default = 30\n",
    "* weights: βάρη για τη συμμετοχή των γειτόνων (΄uniform', 'inverse', user-defined)"
   ]
  },
  {
   "cell_type": "markdown",
   "metadata": {},
   "source": [
    "### 8. Νευρωνικά Δίκτυα\n",
    "\n",
    "Υποστηρίζεται η μοντελοποίηση και εκπαίδευση πολυ-επίπεδων δικτύων (τύπου) Perceptron για κατηγοριοποίηση.\n",
    "Υλοποιούνται από την κλάση MLPClassifier που βρίσκεται στο namespace neural_network του module sklearn. Ακολουθεί ένας πειραματισμός στην αυτόματη αναγνώριση χειρόγραφων ψηφίων που δίνονται από το (built-in) σύνολο δεδομένων digits."
   ]
  },
  {
   "cell_type": "code",
   "execution_count": 42,
   "metadata": {},
   "outputs": [
    {
     "data": {
      "text/plain": [
       "MLPClassifier(activation='relu', alpha=0.0001, batch_size='auto', beta_1=0.9,\n",
       "       beta_2=0.999, early_stopping=False, epsilon=1e-08,\n",
       "       hidden_layer_sizes=(25,), learning_rate='constant',\n",
       "       learning_rate_init=0.001, max_iter=200, momentum=0.9,\n",
       "       nesterovs_momentum=True, power_t=0.5, random_state=1, shuffle=True,\n",
       "       solver='lbfgs', tol=0.0001, validation_fraction=0.1, verbose=False,\n",
       "       warm_start=False)"
      ]
     },
     "execution_count": 42,
     "metadata": {},
     "output_type": "execute_result"
    }
   ],
   "source": [
    "import numpy as np\n",
    "import sklearn.datasets as dsets\n",
    "from sklearn.model_selection import train_test_split\n",
    "from sklearn.neural_network import MLPClassifier\n",
    "\n",
    "digits = dsets.load_digits()\n",
    "X = digits.data\n",
    "y = digits.target\n",
    "\n",
    "Xtrain, Xtest, ytrain, ytest = train_test_split(X, y, test_size=0.3)    # Split in Training and Test Sets\n",
    "mlp = MLPClassifier(solver = 'lbfgs', activation = 'relu', hidden_layer_sizes = (25,), random_state = 1)\n",
    "mlp.fit(Xtrain, ytrain) "
   ]
  },
  {
   "cell_type": "markdown",
   "metadata": {},
   "source": [
    "** Μερικά Ορίσματα του constructor MLPClassifier: **\n",
    "* solver: επιλογή επιλυτή για τον αλγόριθμο Backpropagation ('lbfgs', 'sgd', 'adam'), default = 'adam'.\n",
    "* activation: είδος συνάρτησης ενεργοποίησης ('relu', 'logistic', 'tanh', 'identity'), default = 'relu'.\n",
    "* hiddel_layer_sizes: πλειάδα με τα πλήθη κόμβων στα \"κρυμμένα\" επίπεδα του δικτύου.\n",
    "* max_iter: μέγιστο πλήθος επαναλήψεων του Backpropagation, default = 2000.\n",
    "* random_state: φύτρο τυχαίας κατάστασης, για την αρχικοποίηση των παραμέτρων."
   ]
  },
  {
   "cell_type": "code",
   "execution_count": 43,
   "metadata": {},
   "outputs": [
    {
     "name": "stdout",
     "output_type": "stream",
     "text": [
      "Accuracy = 0.9629629629629629\n"
     ]
    }
   ],
   "source": [
    "prediction = mlp.predict(Xtest)\n",
    "accuracy = np.where(prediction == ytest)[0].shape[0]/len(ytest)\n",
    "print(\"Accuracy = \" + str(accuracy))"
   ]
  },
  {
   "cell_type": "markdown",
   "metadata": {},
   "source": [
    "** Πεδία της Κλάσης MLPClassifier: **\n",
    "* classes_: array των διαφορετικών κατηγοριών.\n",
    "* loss_: το τρέχον σφάλμα της συνάρτησης σφάλματος.\n",
    "* coefs_: οι παράμετροι του δικτύου.\n",
    "* intercepts_: το i-οστό στοιχείο αντιστοιχεί στο επίπεδο i.\n",
    "* n_layers: πλήθος επιπέδων του δικτύου.\n",
    "\n",
    "** Μέθοδοι της Κλάσης MLPClassifier: **\n",
    "* fit(X, y): εκπαίδευση του δικτύου στα δεδομένα X, y.\n",
    "* predict(X) πρόβλεψη στο για τα δεδομένα X.\n",
    "* predict_log_proba(X): επιστρέφει log των πιθανοτήτων πρόβλεψης στο X.\n",
    "* predict_proba(X): επιστρέφει πιθανότητες πρόβλεψης στο X.\n",
    "* score(X, y[, sample_weight]): Επιστρέφει την ακρίβεια πρόβλεψης στο X,y."
   ]
  },
  {
   "cell_type": "code",
   "execution_count": 26,
   "metadata": {},
   "outputs": [
    {
     "data": {
      "text/plain": [
       "1.0"
      ]
     },
     "execution_count": 26,
     "metadata": {},
     "output_type": "execute_result"
    }
   ],
   "source": [
    "mlp.score(Xtrain, ytrain)"
   ]
  },
  {
   "cell_type": "code",
   "execution_count": null,
   "metadata": {},
   "outputs": [],
   "source": []
  }
 ],
 "metadata": {
  "kernelspec": {
   "display_name": "Python 3",
   "language": "python",
   "name": "python3"
  },
  "language_info": {
   "codemirror_mode": {
    "name": "ipython",
    "version": 3
   },
   "file_extension": ".py",
   "mimetype": "text/x-python",
   "name": "python",
   "nbconvert_exporter": "python",
   "pygments_lexer": "ipython3",
   "version": "3.6.5"
  }
 },
 "nbformat": 4,
 "nbformat_minor": 2
}
