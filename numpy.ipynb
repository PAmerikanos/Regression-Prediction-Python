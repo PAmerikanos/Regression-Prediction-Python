{
 "cells": [
  {
   "cell_type": "markdown",
   "metadata": {},
   "source": [
    "# Βιβλιοθήκη NumPy"
   ]
  },
  {
   "cell_type": "markdown",
   "metadata": {},
   "source": [
    "Θεμελιώδης Δομή Δεδομένων είναι το n-διάστατο array (πίνακας)\n",
    "* Το όνομα της κλάσης που ορίζεται στη NumPy είναι ndarray.\n",
    "* Παρέχει δυνατότητες παρόμοιες με των λογισμικών Matlab/Octave.\n",
    "* Η ονοματολογία των λειτουργιών είναι επίσης παρόμοια.\n",
    "* Η NumPy παρέχει επίσης θεμελιώδεις λειτουργίες Γραμμικής Άλγεβρας.\n",
    "* Όλες οι πράξεις και οι λειτουργίες είναι υλοποιημένες πολύ αποδοτικά."
   ]
  },
  {
   "cell_type": "markdown",
   "metadata": {},
   "source": [
    "## Ορισμός Πινάκων numpy.ndarray και ιδιότητες"
   ]
  },
  {
   "cell_type": "code",
   "execution_count": null,
   "metadata": {},
   "outputs": [],
   "source": [
    "import numpy as np\n",
    "a = np.array([1, 2, 3, 4, 5]) # from regular python list\n",
    "a.ndim                        # number of dimensions"
   ]
  },
  {
   "cell_type": "markdown",
   "metadata": {},
   "source": [
    "Όπως φαίνεται παρακάτω, το a είναι απλώς ένα array (μονοδιάστατος πίνακας), όχι διάνυσμα!"
   ]
  },
  {
   "cell_type": "code",
   "execution_count": null,
   "metadata": {},
   "outputs": [],
   "source": [
    "a.shape  # length per dimension"
   ]
  },
  {
   "cell_type": "code",
   "execution_count": null,
   "metadata": {},
   "outputs": [],
   "source": [
    "a.size  # number of elements in array"
   ]
  },
  {
   "cell_type": "code",
   "execution_count": null,
   "metadata": {},
   "outputs": [],
   "source": [
    "a = np.array([[1, 2, 3, 4, 5]]) # a row-vector array\n",
    "a.ndim                          # number of dimensions"
   ]
  },
  {
   "cell_type": "code",
   "execution_count": null,
   "metadata": {},
   "outputs": [],
   "source": [
    "a.shape                         # length per dimension"
   ]
  },
  {
   "cell_type": "code",
   "execution_count": null,
   "metadata": {},
   "outputs": [],
   "source": [
    "a = np.array([[1], [2], [3], [4], [5]]) \n",
    "a.shape"
   ]
  },
  {
   "cell_type": "markdown",
   "metadata": {},
   "source": [
    "#### Μοναδιαίοι πίνακες, μηδενικοί πίνακες, αρχικοποίηση από εύρος και τυχαία αρχικοποίηση"
   ]
  },
  {
   "cell_type": "code",
   "execution_count": null,
   "metadata": {},
   "outputs": [],
   "source": [
    "np.eye(3)    # 3x3 identity matrix"
   ]
  },
  {
   "cell_type": "code",
   "execution_count": null,
   "metadata": {},
   "outputs": [],
   "source": [
    "np.arange(15)    # array with numbers 0, 1, 2, ..., 14"
   ]
  },
  {
   "cell_type": "code",
   "execution_count": null,
   "metadata": {},
   "outputs": [],
   "source": [
    "np.random.random( (2,2) )    # 2x2 matrix with random values in [0,1)"
   ]
  },
  {
   "cell_type": "code",
   "execution_count": null,
   "metadata": {},
   "outputs": [],
   "source": [
    "np.zeros( (3,4) )    # all-zeros 3x4 matrix"
   ]
  },
  {
   "cell_type": "code",
   "execution_count": null,
   "metadata": {},
   "outputs": [],
   "source": [
    "np.ones( (2,3), dtype=np.int16 ) # dtype can be given"
   ]
  },
  {
   "cell_type": "code",
   "execution_count": null,
   "metadata": {},
   "outputs": [],
   "source": [
    "np.empty( (2,3) )                # uninitialized output"
   ]
  },
  {
   "cell_type": "markdown",
   "metadata": {},
   "source": [
    "#### Ανασχηματισμός Πινάκων"
   ]
  },
  {
   "cell_type": "code",
   "execution_count": null,
   "metadata": {},
   "outputs": [],
   "source": [
    "np.arange(15).reshape( (3,5) )"
   ]
  },
  {
   "cell_type": "code",
   "execution_count": null,
   "metadata": {},
   "outputs": [],
   "source": [
    "a = np.arange(15).reshape( (3,5) )   # reshape array of 15 elements to 3x5 matrix\n",
    "print(a.reshape( (5, 3) ))           # reshape returns a new matrix\n",
    "a                                    # a itself has not changed"
   ]
  },
  {
   "cell_type": "code",
   "execution_count": null,
   "metadata": {},
   "outputs": [],
   "source": [
    "b = np.arange(16)  # 1-dimensional array of 9 elements\n",
    "b.resize( (4,4) )  # Convert to 4x4 matrix\n",
    "b                  # b has changed"
   ]
  },
  {
   "cell_type": "markdown",
   "metadata": {},
   "source": [
    "<font color='red'>**Σημείωση:**</font> η <font color='blue'>resize</font> επιστρέφει <font color='blue'>None</font>"
   ]
  },
  {
   "cell_type": "code",
   "execution_count": null,
   "metadata": {},
   "outputs": [],
   "source": [
    "b = np.arange(10).reshape( (2,5) ) # 5x2 matrix\n",
    "b.T                                # returns transpose"
   ]
  },
  {
   "cell_type": "markdown",
   "metadata": {},
   "source": [
    "#### Δεικτοδότηση Πινάκων NumPy"
   ]
  },
  {
   "cell_type": "code",
   "execution_count": null,
   "metadata": {},
   "outputs": [],
   "source": [
    "a = np.arange(10)\n",
    "a[5]"
   ]
  },
  {
   "cell_type": "code",
   "execution_count": null,
   "metadata": {},
   "outputs": [],
   "source": [
    "a[3:6]"
   ]
  },
  {
   "cell_type": "code",
   "execution_count": null,
   "metadata": {},
   "outputs": [],
   "source": [
    "a[:]"
   ]
  },
  {
   "cell_type": "code",
   "execution_count": null,
   "metadata": {},
   "outputs": [],
   "source": [
    "a[-8:-3]"
   ]
  },
  {
   "cell_type": "markdown",
   "metadata": {},
   "source": [
    "__*Επεκτείνεται σε πολυδιάστατους πίνακες: οι δείκτες διαχωρίζονται με κόμμα.*__"
   ]
  },
  {
   "cell_type": "code",
   "execution_count": null,
   "metadata": {},
   "outputs": [],
   "source": [
    "A = np.arange(12).reshape( (3,4) )\n",
    "A[2,3]"
   ]
  },
  {
   "cell_type": "code",
   "execution_count": null,
   "metadata": {},
   "outputs": [],
   "source": [
    "A[0:2, 2:4]"
   ]
  },
  {
   "cell_type": "code",
   "execution_count": null,
   "metadata": {},
   "outputs": [],
   "source": [
    "A[0:2, 2:4].shape"
   ]
  },
  {
   "cell_type": "markdown",
   "metadata": {},
   "source": [
    "__*Είναι εφικτή η ανάγνωση γραμμής ή στήλης πολυδιάστατου πίνακα.*__"
   ]
  },
  {
   "cell_type": "code",
   "execution_count": null,
   "metadata": {},
   "outputs": [],
   "source": [
    "A = np.arange(12).reshape( (3,4) )\n",
    "A[2]                                # read line 2"
   ]
  },
  {
   "cell_type": "code",
   "execution_count": null,
   "metadata": {},
   "outputs": [],
   "source": [
    "A[2, :]                             # read line 2"
   ]
  },
  {
   "cell_type": "code",
   "execution_count": null,
   "metadata": {},
   "outputs": [],
   "source": [
    "A[:, 2]                             # read column 2"
   ]
  },
  {
   "cell_type": "code",
   "execution_count": null,
   "metadata": {},
   "outputs": [],
   "source": [
    "A[2].shape                          # array of 4 elements"
   ]
  },
  {
   "cell_type": "code",
   "execution_count": null,
   "metadata": {},
   "outputs": [],
   "source": [
    "A[:, 2].shape                       # array of 3 elements"
   ]
  },
  {
   "cell_type": "markdown",
   "metadata": {},
   "source": [
    "<font color='red'>__Προσοχή__</font>, όταν διαβάζετε γραμμές ή στήλες του πίνακα μέσω κατάλληλης δεικτοδότησης: αυτές επιστρέφονται σαν μονοδιάστατα __array__ στοιχείων και όχι σαν διανύσματα (τα διανύσματα είναι διδιάστατοι πίνακες). Αυτό μπορείτε να το διαγνώσετε με τη shape, που επιστρέφει πλειάδα του ενός στοιχείου."
   ]
  },
  {
   "cell_type": "markdown",
   "metadata": {},
   "source": [
    "#### Επαναληπτική Επίσκεψη Στοιχείων Πίνακα"
   ]
  },
  {
   "cell_type": "code",
   "execution_count": null,
   "metadata": {},
   "outputs": [],
   "source": [
    "A = np.arange(12).reshape( (3,4) )\n",
    "for row in A:           # Visiting per row (first index)\n",
    "    print(row)"
   ]
  },
  {
   "cell_type": "code",
   "execution_count": null,
   "metadata": {},
   "outputs": [],
   "source": [
    "for element in A.flat:  # Visiting each element\n",
    "    print(element)"
   ]
  },
  {
   "cell_type": "markdown",
   "metadata": {},
   "source": [
    "#### Βασικές Πράξεις Πινάκων"
   ]
  },
  {
   "cell_type": "markdown",
   "metadata": {},
   "source": [
    "Η NumPy εκτελεί πράξεις σε arrays στοιχείο-προς-στοιχείο, επιστρέφοντας νέο array ίδιου μήκους. Όλες οι γνωστές μαθηματικές συναρτήσεις εφαρμόζονται επίσης σε κάθε στοιχείο ενός array."
   ]
  },
  {
   "cell_type": "code",
   "execution_count": null,
   "metadata": {},
   "outputs": [],
   "source": [
    "a = np.array( [20,30,40,50] )  # Size-4 NumPy array\n",
    "b = np.arange( 4 )             # Size-4 NumPy array\n",
    "c = a-b                        # Element-wise diff\n",
    "print(c)\n",
    "print(b**2)                    # Square of elements\n",
    "print(10*np.sin(a))            # sin of elements (array)\n",
    "a<35                           # boolean test on elements"
   ]
  },
  {
   "cell_type": "markdown",
   "metadata": {},
   "source": [
    "<font color='red'>*__Προσοχή στον Πολλαπλασιασμό Πινάκων__*</font>\n",
    "* Με '*' (αστερίσκο), συμβαίνει στοιχείο προς στοιχείο.\n",
    "* Με np.dot, μπορούμε να έχουμε τον \"πραγματικό\" πολλαπλασιασμό."
   ]
  },
  {
   "cell_type": "code",
   "execution_count": null,
   "metadata": {},
   "outputs": [],
   "source": [
    "A = np.array( [[1,1],[0,1]] )\n",
    "B = np.array( [[2,0], [3,4]] )\n",
    "C = A*B                         # elementwise product\n",
    "print(C)\n",
    "D = A.dot(B)                    # matrix product\n",
    "print(D)\n",
    "E = np.dot(B, A)                # another matrix product\n",
    "print(E)"
   ]
  },
  {
   "cell_type": "markdown",
   "metadata": {},
   "source": [
    "Τελεστές όπως οι += και *= τροποποιούν τον ίδιο τον πίνακα στον οποίο εφαρμόζονται. Προσοχή στη συμβατότητα των τύπων."
   ]
  },
  {
   "cell_type": "code",
   "execution_count": null,
   "metadata": {},
   "outputs": [],
   "source": [
    "a = np.ones((2,3), dtype=int)  # 2x3 matrix of integers\n",
    "b = np.random.random((2,3))    # random 2x3 matrix\n",
    "a *= 3                         # multiplies all elements by 3\n",
    "print(a)\n",
    "b += a                         # integers added to floats\n",
    "print(b)\n",
    "a += b                         # floats added to integers will not work\n",
    "print(a)"
   ]
  },
  {
   "cell_type": "markdown",
   "metadata": {},
   "source": [
    "#### Συναρτήσεις που παρέχονται από τη NumPy\n",
    "\n",
    "Όλες σχεδόν οι οικείες μαθηματικές συναρτήσεις είναι διαθέσιμες, και για εφαρμογή τους σε arrays/πίνακες."
   ]
  },
  {
   "cell_type": "code",
   "execution_count": null,
   "metadata": {},
   "outputs": [],
   "source": [
    "B = np.arange(3)\n",
    "print(B)\n",
    "print(np.exp(B))\n",
    "print(np.sqrt(B))\n",
    "C = np.array([2., -1., 4.])\n",
    "print(np.add(B, C))"
   ]
  },
  {
   "cell_type": "markdown",
   "metadata": {},
   "source": [
    "#### Συνένωση Πινάκων\n",
    "\n",
    "Πίνακες με ίδιο πλήθος γραμμών μπορούν να συνενωθούν \"οριζόντια\"."
   ]
  },
  {
   "cell_type": "code",
   "execution_count": null,
   "metadata": {},
   "outputs": [],
   "source": [
    "X = np.arange(12).reshape( (3, 4) ) # 3x4 matrix\n",
    "Y = np.arange(9).reshape( (3, 3) )  # 3x3 matrix\n",
    "Z = np.arange(6).reshape( (3, 2) )  # 3x2 matrix\n",
    "XYZ = np.hstack( (X, Y, Z) )        # requires tuple\n",
    "XYZ"
   ]
  },
  {
   "cell_type": "markdown",
   "metadata": {},
   "source": [
    "Πίνακες με ίδιο πλήθος στηλών μπορούν να συνενωθούν \"κάθετα\"."
   ]
  },
  {
   "cell_type": "markdown",
   "metadata": {},
   "source": [
    "#### Χρήσιμη Γραμμική Άλγεβρα"
   ]
  },
  {
   "cell_type": "code",
   "execution_count": null,
   "metadata": {},
   "outputs": [],
   "source": [
    "a = np.array([[1.0, 2.0], [3.0, 4.0]])\n",
    "a.transpose()        # Same as a.T"
   ]
  },
  {
   "cell_type": "code",
   "execution_count": null,
   "metadata": {},
   "outputs": [],
   "source": [
    "b = np.linalg.inv(a) # Computes the inverse matrix\n",
    "b"
   ]
  },
  {
   "cell_type": "code",
   "execution_count": null,
   "metadata": {},
   "outputs": [],
   "source": [
    "np.dot(a, b)         # Dot product (matrix multiplication)"
   ]
  },
  {
   "cell_type": "code",
   "execution_count": null,
   "metadata": {},
   "outputs": [],
   "source": [
    "np.linalg.pinv(a)    # Pseudo-inverse matrix"
   ]
  },
  {
   "cell_type": "code",
   "execution_count": null,
   "metadata": {},
   "outputs": [],
   "source": []
  }
 ],
 "metadata": {
  "kernelspec": {
   "display_name": "Python 3",
   "language": "python",
   "name": "python3"
  },
  "language_info": {
   "codemirror_mode": {
    "name": "ipython",
    "version": 3
   },
   "file_extension": ".py",
   "mimetype": "text/x-python",
   "name": "python",
   "nbconvert_exporter": "python",
   "pygments_lexer": "ipython3",
   "version": "3.6.4"
  }
 },
 "nbformat": 4,
 "nbformat_minor": 2
}
